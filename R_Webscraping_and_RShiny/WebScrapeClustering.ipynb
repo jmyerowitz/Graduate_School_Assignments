{
 "cells": [
  {
   "cell_type": "code",
   "execution_count": 1,
   "metadata": {},
   "outputs": [],
   "source": [
    "import numpy as np\n",
    "import pandas as pd"
   ]
  },
  {
   "cell_type": "code",
   "execution_count": 6,
   "metadata": {},
   "outputs": [
    {
     "data": {
      "text/plain": [
       "Unnamed: 0          int64\n",
       "Trail_Name         object\n",
       "Rank                int64\n",
       "Difficulty         object\n",
       "Distance_Miles    float64\n",
       "Elevation_Feet      int64\n",
       "Route_Type         object\n",
       "Description        object\n",
       "dtype: object"
      ]
     },
     "execution_count": 6,
     "metadata": {},
     "output_type": "execute_result"
    }
   ],
   "source": [
    "trails = pd.read_csv(\"WebProject.csv\", encoding = 'mac_roman' )\n",
    "\n",
    "trails.shape\n",
    "\n",
    "trails.head()\n",
    "\n",
    "trails.dtypes"
   ]
  },
  {
   "cell_type": "code",
   "execution_count": 9,
   "metadata": {},
   "outputs": [
    {
     "data": {
      "text/plain": [
       "array([0, 0, 0, 0, 0, 0, 0, 0])"
      ]
     },
     "execution_count": 9,
     "metadata": {},
     "output_type": "execute_result"
    }
   ],
   "source": [
    "sum(trails.isnull().values)\n",
    "\n",
    "#No missing values"
   ]
  },
  {
   "cell_type": "code",
   "execution_count": 26,
   "metadata": {},
   "outputs": [],
   "source": [
    "from sklearn import preprocessing\n",
    "\n",
    "from sklearn.cluster import KMeans\n",
    "from sklearn.preprocessing import StandardScaler\n",
    "from sklearn.covariance import EllipticEnvelope\n",
    "from sklearn.preprocessing import OneHotEncoder\n",
    "from scipy import stats"
   ]
  },
  {
   "cell_type": "code",
   "execution_count": 19,
   "metadata": {},
   "outputs": [
    {
     "data": {
      "text/html": [
       "<div>\n",
       "<style scoped>\n",
       "    .dataframe tbody tr th:only-of-type {\n",
       "        vertical-align: middle;\n",
       "    }\n",
       "\n",
       "    .dataframe tbody tr th {\n",
       "        vertical-align: top;\n",
       "    }\n",
       "\n",
       "    .dataframe thead th {\n",
       "        text-align: right;\n",
       "    }\n",
       "</style>\n",
       "<table border=\"1\" class=\"dataframe\">\n",
       "  <thead>\n",
       "    <tr style=\"text-align: right;\">\n",
       "      <th></th>\n",
       "      <th>Difficulty</th>\n",
       "      <th>Route_Type</th>\n",
       "    </tr>\n",
       "  </thead>\n",
       "  <tbody>\n",
       "    <tr>\n",
       "      <th>0</th>\n",
       "      <td>Hard</td>\n",
       "      <td>Loop</td>\n",
       "    </tr>\n",
       "    <tr>\n",
       "      <th>1</th>\n",
       "      <td>Hard</td>\n",
       "      <td>Loop</td>\n",
       "    </tr>\n",
       "    <tr>\n",
       "      <th>2</th>\n",
       "      <td>Moderate</td>\n",
       "      <td>Out &amp; Back</td>\n",
       "    </tr>\n",
       "    <tr>\n",
       "      <th>3</th>\n",
       "      <td>Hard</td>\n",
       "      <td>Loop</td>\n",
       "    </tr>\n",
       "    <tr>\n",
       "      <th>4</th>\n",
       "      <td>Moderate</td>\n",
       "      <td>Loop</td>\n",
       "    </tr>\n",
       "  </tbody>\n",
       "</table>\n",
       "</div>"
      ],
      "text/plain": [
       "  Difficulty  Route_Type\n",
       "0       Hard        Loop\n",
       "1       Hard        Loop\n",
       "2   Moderate  Out & Back\n",
       "3       Hard        Loop\n",
       "4   Moderate        Loop"
      ]
     },
     "execution_count": 19,
     "metadata": {},
     "output_type": "execute_result"
    }
   ],
   "source": [
    "ntrails = trails.iloc[:,3:7]\n",
    "\n",
    "ntrailsonehot = trails.loc[:, ['Difficulty', 'Route_Type']]\n",
    "\n",
    "ntrailsonehot.head()"
   ]
  },
  {
   "cell_type": "code",
   "execution_count": 36,
   "metadata": {},
   "outputs": [
    {
     "data": {
      "text/plain": [
       "array([[0., 1., 0., 1., 0., 0.],\n",
       "       [0., 1., 0., 1., 0., 0.],\n",
       "       [0., 0., 1., 0., 1., 0.],\n",
       "       ...,\n",
       "       [0., 1., 0., 0., 1., 0.],\n",
       "       [0., 1., 0., 1., 0., 0.],\n",
       "       [1., 0., 0., 1., 0., 0.]])"
      ]
     },
     "execution_count": 36,
     "metadata": {},
     "output_type": "execute_result"
    }
   ],
   "source": [
    "encode = preprocessing.OneHotEncoder()\n",
    "\n",
    "# 2. Fit the encoder\n",
    "encode.fit(ntrailsonehot)\n",
    "\n",
    "# 3. Transform to binary columns\n",
    "onehotlabels = encode.transform(ntrailsonehot).toarray()\n",
    "onehotlabels.shape\n",
    "onehotlabels\n"
   ]
  },
  {
   "cell_type": "code",
   "execution_count": 40,
   "metadata": {},
   "outputs": [
    {
     "data": {
      "text/plain": [
       "(1196, 6)"
      ]
     },
     "execution_count": 40,
     "metadata": {},
     "output_type": "execute_result"
    }
   ],
   "source": [
    "newcols = ['Cat1a', 'Cat1b', 'Cat1c', 'Cat2a', 'Cat2b', 'Cat2c']\n",
    "catvardf = pd.DataFrame(onehotlabels, columns = newcols)\n",
    "\n",
    "catvardf.shape"
   ]
  },
  {
   "cell_type": "code",
   "execution_count": 41,
   "metadata": {},
   "outputs": [],
   "source": [
    "other_trails = trails.loc[:, ['Distance_Miles', 'Elevation_Feet']]\n",
    "\n"
   ]
  },
  {
   "cell_type": "code",
   "execution_count": 44,
   "metadata": {},
   "outputs": [
    {
     "data": {
      "text/plain": [
       "(1196, 8)"
      ]
     },
     "execution_count": 44,
     "metadata": {},
     "output_type": "execute_result"
    }
   ],
   "source": [
    "X = pd.concat((other_trails, catvardf), axis = 1)\n",
    "X.shape"
   ]
  },
  {
   "cell_type": "code",
   "execution_count": 48,
   "metadata": {},
   "outputs": [
    {
     "name": "stderr",
     "output_type": "stream",
     "text": [
      "C:\\Users\\Jordan\\Anaconda3\\lib\\site-packages\\sklearn\\covariance\\robust_covariance.py:646: UserWarning: The covariance matrix associated to your dataset is not full rank\n",
      "  warnings.warn(\"The covariance matrix associated to your dataset \"\n"
     ]
    },
    {
     "data": {
      "text/plain": [
       "EllipticEnvelope(assume_centered=False, contamination=0.02, random_state=None,\n",
       "         store_precision=True, support_fraction=None)"
      ]
     },
     "execution_count": 48,
     "metadata": {},
     "output_type": "execute_result"
    }
   ],
   "source": [
    "from sklearn.covariance import EllipticEnvelope\n",
    "outlier_frac = 0.02\n",
    "\n",
    "ell = EllipticEnvelope(contamination = outlier_frac)\n",
    "ell.fit(X)"
   ]
  },
  {
   "cell_type": "code",
   "execution_count": 49,
   "metadata": {},
   "outputs": [
    {
     "name": "stdout",
     "output_type": "stream",
     "text": [
      "24\n"
     ]
    },
    {
     "name": "stderr",
     "output_type": "stream",
     "text": [
      "C:\\Users\\Jordan\\Anaconda3\\lib\\site-packages\\ipykernel_launcher.py:5: DeprecationWarning: `itemfreq` is deprecated!\n",
      "`itemfreq` is deprecated and will be removed in a future version. Use instead `np.unique(..., return_counts=True)`\n",
      "  \"\"\"\n"
     ]
    },
    {
     "data": {
      "text/plain": [
       "array([[  -1,   24],\n",
       "       [   1, 1172]], dtype=int64)"
      ]
     },
     "execution_count": 49,
     "metadata": {},
     "output_type": "execute_result"
    }
   ],
   "source": [
    "#Checking for the number of outliers\n",
    "\n",
    "pred = ell.predict(X)\n",
    "print(sum(pred == -1) ) # Outlier points are predicted as -1\n",
    "stats.itemfreq(pred)\n",
    "\n"
   ]
  },
  {
   "cell_type": "code",
   "execution_count": 50,
   "metadata": {},
   "outputs": [
    {
     "name": "stdout",
     "output_type": "stream",
     "text": [
      "(1172, 8)\n"
     ]
    },
    {
     "data": {
      "text/html": [
       "<div>\n",
       "<style scoped>\n",
       "    .dataframe tbody tr th:only-of-type {\n",
       "        vertical-align: middle;\n",
       "    }\n",
       "\n",
       "    .dataframe tbody tr th {\n",
       "        vertical-align: top;\n",
       "    }\n",
       "\n",
       "    .dataframe thead th {\n",
       "        text-align: right;\n",
       "    }\n",
       "</style>\n",
       "<table border=\"1\" class=\"dataframe\">\n",
       "  <thead>\n",
       "    <tr style=\"text-align: right;\">\n",
       "      <th></th>\n",
       "      <th>Distance_Miles</th>\n",
       "      <th>Elevation_Feet</th>\n",
       "      <th>Cat1a</th>\n",
       "      <th>Cat1b</th>\n",
       "      <th>Cat1c</th>\n",
       "      <th>Cat2a</th>\n",
       "      <th>Cat2b</th>\n",
       "      <th>Cat2c</th>\n",
       "    </tr>\n",
       "  </thead>\n",
       "  <tbody>\n",
       "    <tr>\n",
       "      <th>0</th>\n",
       "      <td>8.6</td>\n",
       "      <td>3822</td>\n",
       "      <td>0.0</td>\n",
       "      <td>1.0</td>\n",
       "      <td>0.0</td>\n",
       "      <td>1.0</td>\n",
       "      <td>0.0</td>\n",
       "      <td>0.0</td>\n",
       "    </tr>\n",
       "    <tr>\n",
       "      <th>1</th>\n",
       "      <td>4.0</td>\n",
       "      <td>1751</td>\n",
       "      <td>0.0</td>\n",
       "      <td>1.0</td>\n",
       "      <td>0.0</td>\n",
       "      <td>1.0</td>\n",
       "      <td>0.0</td>\n",
       "      <td>0.0</td>\n",
       "    </tr>\n",
       "    <tr>\n",
       "      <th>2</th>\n",
       "      <td>3.2</td>\n",
       "      <td>905</td>\n",
       "      <td>0.0</td>\n",
       "      <td>0.0</td>\n",
       "      <td>1.0</td>\n",
       "      <td>0.0</td>\n",
       "      <td>1.0</td>\n",
       "      <td>0.0</td>\n",
       "    </tr>\n",
       "    <tr>\n",
       "      <th>3</th>\n",
       "      <td>3.7</td>\n",
       "      <td>1768</td>\n",
       "      <td>0.0</td>\n",
       "      <td>1.0</td>\n",
       "      <td>0.0</td>\n",
       "      <td>1.0</td>\n",
       "      <td>0.0</td>\n",
       "      <td>0.0</td>\n",
       "    </tr>\n",
       "    <tr>\n",
       "      <th>4</th>\n",
       "      <td>3.7</td>\n",
       "      <td>1148</td>\n",
       "      <td>0.0</td>\n",
       "      <td>0.0</td>\n",
       "      <td>1.0</td>\n",
       "      <td>1.0</td>\n",
       "      <td>0.0</td>\n",
       "      <td>0.0</td>\n",
       "    </tr>\n",
       "  </tbody>\n",
       "</table>\n",
       "</div>"
      ],
      "text/plain": [
       "   Distance_Miles  Elevation_Feet  Cat1a  Cat1b  Cat1c  Cat2a  Cat2b  Cat2c\n",
       "0             8.6            3822    0.0    1.0    0.0    1.0    0.0    0.0\n",
       "1             4.0            1751    0.0    1.0    0.0    1.0    0.0    0.0\n",
       "2             3.2             905    0.0    0.0    1.0    0.0    1.0    0.0\n",
       "3             3.7            1768    0.0    1.0    0.0    1.0    0.0    0.0\n",
       "4             3.7            1148    0.0    0.0    1.0    1.0    0.0    0.0"
      ]
     },
     "execution_count": 50,
     "metadata": {},
     "output_type": "execute_result"
    }
   ],
   "source": [
    "keep = pred == 1\n",
    "\n",
    "Xkeep = X[keep]\n",
    "\n",
    "print(Xkeep.shape)\n",
    "Xkeep.head()"
   ]
  },
  {
   "cell_type": "code",
   "execution_count": 51,
   "metadata": {},
   "outputs": [
    {
     "name": "stderr",
     "output_type": "stream",
     "text": [
      "C:\\Users\\Jordan\\Anaconda3\\lib\\site-packages\\sklearn\\preprocessing\\data.py:645: DataConversionWarning: Data with input dtype int64, float64 were all converted to float64 by StandardScaler.\n",
      "  return self.partial_fit(X, y)\n",
      "C:\\Users\\Jordan\\Anaconda3\\lib\\site-packages\\sklearn\\base.py:464: DataConversionWarning: Data with input dtype int64, float64 were all converted to float64 by StandardScaler.\n",
      "  return self.fit(X, **fit_params).transform(X)\n"
     ]
    }
   ],
   "source": [
    "scaler = StandardScaler()\n",
    "\n",
    "ready_to_clusterstd = scaler.fit_transform(Xkeep)"
   ]
  },
  {
   "cell_type": "code",
   "execution_count": 57,
   "metadata": {},
   "outputs": [
    {
     "data": {
      "text/plain": [
       "4"
      ]
     },
     "execution_count": 57,
     "metadata": {},
     "output_type": "execute_result"
    }
   ],
   "source": [
    "from sklearn.decomposition import PCA\n",
    "\n",
    "pca = PCA(0.90)\n",
    "pca.fit(ready_to_clusterstd)\n",
    "\n",
    "pca.n_components_"
   ]
  },
  {
   "cell_type": "code",
   "execution_count": 62,
   "metadata": {},
   "outputs": [
    {
     "data": {
      "text/plain": [
       "(1172, 4)"
      ]
     },
     "execution_count": 62,
     "metadata": {},
     "output_type": "execute_result"
    }
   ],
   "source": [
    "pca_components = pca.transform(ready_to_clusterstd)\n",
    "pca_components.shape"
   ]
  },
  {
   "cell_type": "code",
   "execution_count": 63,
   "metadata": {},
   "outputs": [
    {
     "name": "stderr",
     "output_type": "stream",
     "text": [
      "C:\\Users\\Jordan\\Anaconda3\\lib\\site-packages\\ipykernel_launcher.py:1: SettingWithCopyWarning: \n",
      "A value is trying to be set on a copy of a slice from a DataFrame.\n",
      "Try using .loc[row_indexer,col_indexer] = value instead\n",
      "\n",
      "See the caveats in the documentation: http://pandas.pydata.org/pandas-docs/stable/indexing.html#indexing-view-versus-copy\n",
      "  \"\"\"Entry point for launching an IPython kernel.\n"
     ]
    },
    {
     "data": {
      "text/html": [
       "<div>\n",
       "<style scoped>\n",
       "    .dataframe tbody tr th:only-of-type {\n",
       "        vertical-align: middle;\n",
       "    }\n",
       "\n",
       "    .dataframe tbody tr th {\n",
       "        vertical-align: top;\n",
       "    }\n",
       "\n",
       "    .dataframe thead th {\n",
       "        text-align: right;\n",
       "    }\n",
       "</style>\n",
       "<table border=\"1\" class=\"dataframe\">\n",
       "  <thead>\n",
       "    <tr style=\"text-align: right;\">\n",
       "      <th></th>\n",
       "      <th>level_0</th>\n",
       "      <th>Distance_Miles</th>\n",
       "      <th>Elevation_Feet</th>\n",
       "      <th>Cat1a</th>\n",
       "      <th>Cat1b</th>\n",
       "      <th>Cat1c</th>\n",
       "      <th>Cat2a</th>\n",
       "      <th>Cat2b</th>\n",
       "      <th>Cat2c</th>\n",
       "      <th>Cluster_number</th>\n",
       "      <th>index</th>\n",
       "    </tr>\n",
       "  </thead>\n",
       "  <tbody>\n",
       "    <tr>\n",
       "      <th>0</th>\n",
       "      <td>0</td>\n",
       "      <td>8.6</td>\n",
       "      <td>3822</td>\n",
       "      <td>0.0</td>\n",
       "      <td>1.0</td>\n",
       "      <td>0.0</td>\n",
       "      <td>1.0</td>\n",
       "      <td>0.0</td>\n",
       "      <td>0.0</td>\n",
       "      <td>5</td>\n",
       "      <td>0</td>\n",
       "    </tr>\n",
       "    <tr>\n",
       "      <th>1</th>\n",
       "      <td>1</td>\n",
       "      <td>4.0</td>\n",
       "      <td>1751</td>\n",
       "      <td>0.0</td>\n",
       "      <td>1.0</td>\n",
       "      <td>0.0</td>\n",
       "      <td>1.0</td>\n",
       "      <td>0.0</td>\n",
       "      <td>0.0</td>\n",
       "      <td>0</td>\n",
       "      <td>1</td>\n",
       "    </tr>\n",
       "    <tr>\n",
       "      <th>2</th>\n",
       "      <td>2</td>\n",
       "      <td>3.2</td>\n",
       "      <td>905</td>\n",
       "      <td>0.0</td>\n",
       "      <td>0.0</td>\n",
       "      <td>1.0</td>\n",
       "      <td>0.0</td>\n",
       "      <td>1.0</td>\n",
       "      <td>0.0</td>\n",
       "      <td>4</td>\n",
       "      <td>2</td>\n",
       "    </tr>\n",
       "    <tr>\n",
       "      <th>3</th>\n",
       "      <td>3</td>\n",
       "      <td>3.7</td>\n",
       "      <td>1768</td>\n",
       "      <td>0.0</td>\n",
       "      <td>1.0</td>\n",
       "      <td>0.0</td>\n",
       "      <td>1.0</td>\n",
       "      <td>0.0</td>\n",
       "      <td>0.0</td>\n",
       "      <td>0</td>\n",
       "      <td>3</td>\n",
       "    </tr>\n",
       "    <tr>\n",
       "      <th>4</th>\n",
       "      <td>4</td>\n",
       "      <td>3.7</td>\n",
       "      <td>1148</td>\n",
       "      <td>0.0</td>\n",
       "      <td>0.0</td>\n",
       "      <td>1.0</td>\n",
       "      <td>1.0</td>\n",
       "      <td>0.0</td>\n",
       "      <td>0.0</td>\n",
       "      <td>4</td>\n",
       "      <td>4</td>\n",
       "    </tr>\n",
       "  </tbody>\n",
       "</table>\n",
       "</div>"
      ],
      "text/plain": [
       "   level_0  Distance_Miles  Elevation_Feet  Cat1a  Cat1b  Cat1c  Cat2a  Cat2b  \\\n",
       "0        0             8.6            3822    0.0    1.0    0.0    1.0    0.0   \n",
       "1        1             4.0            1751    0.0    1.0    0.0    1.0    0.0   \n",
       "2        2             3.2             905    0.0    0.0    1.0    0.0    1.0   \n",
       "3        3             3.7            1768    0.0    1.0    0.0    1.0    0.0   \n",
       "4        4             3.7            1148    0.0    0.0    1.0    1.0    0.0   \n",
       "\n",
       "   Cat2c  Cluster_number  index  \n",
       "0    0.0               5      0  \n",
       "1    0.0               0      1  \n",
       "2    0.0               4      2  \n",
       "3    0.0               0      3  \n",
       "4    0.0               4      4  "
      ]
     },
     "execution_count": 63,
     "metadata": {},
     "output_type": "execute_result"
    }
   ],
   "source": [
    "Xkeep[\"index\"] = Xkeep.index\n",
    "Xkeep2 = Xkeep.reset_index()\n",
    "Xkeep2.head()"
   ]
  },
  {
   "cell_type": "code",
   "execution_count": 67,
   "metadata": {},
   "outputs": [
    {
     "name": "stdout",
     "output_type": "stream",
     "text": [
      "['PC1', 'PC2', 'PC3', 'PC4']\n"
     ]
    },
    {
     "data": {
      "text/html": [
       "<div>\n",
       "<style scoped>\n",
       "    .dataframe tbody tr th:only-of-type {\n",
       "        vertical-align: middle;\n",
       "    }\n",
       "\n",
       "    .dataframe tbody tr th {\n",
       "        vertical-align: top;\n",
       "    }\n",
       "\n",
       "    .dataframe thead th {\n",
       "        text-align: right;\n",
       "    }\n",
       "</style>\n",
       "<table border=\"1\" class=\"dataframe\">\n",
       "  <thead>\n",
       "    <tr style=\"text-align: right;\">\n",
       "      <th></th>\n",
       "      <th>PC1</th>\n",
       "      <th>PC2</th>\n",
       "      <th>PC3</th>\n",
       "      <th>PC4</th>\n",
       "    </tr>\n",
       "  </thead>\n",
       "  <tbody>\n",
       "    <tr>\n",
       "      <th>0</th>\n",
       "      <td>1.806126</td>\n",
       "      <td>1.863293</td>\n",
       "      <td>0.369014</td>\n",
       "      <td>-1.105734</td>\n",
       "    </tr>\n",
       "    <tr>\n",
       "      <th>1</th>\n",
       "      <td>0.615717</td>\n",
       "      <td>1.602426</td>\n",
       "      <td>0.186959</td>\n",
       "      <td>-1.035805</td>\n",
       "    </tr>\n",
       "    <tr>\n",
       "      <th>2</th>\n",
       "      <td>-0.328563</td>\n",
       "      <td>-2.056302</td>\n",
       "      <td>0.635481</td>\n",
       "      <td>0.283673</td>\n",
       "    </tr>\n",
       "    <tr>\n",
       "      <th>3</th>\n",
       "      <td>0.589411</td>\n",
       "      <td>1.595684</td>\n",
       "      <td>0.182455</td>\n",
       "      <td>-1.039491</td>\n",
       "    </tr>\n",
       "    <tr>\n",
       "      <th>4</th>\n",
       "      <td>-0.911413</td>\n",
       "      <td>0.440869</td>\n",
       "      <td>1.837406</td>\n",
       "      <td>0.142946</td>\n",
       "    </tr>\n",
       "  </tbody>\n",
       "</table>\n",
       "</div>"
      ],
      "text/plain": [
       "        PC1       PC2       PC3       PC4\n",
       "0  1.806126  1.863293  0.369014 -1.105734\n",
       "1  0.615717  1.602426  0.186959 -1.035805\n",
       "2 -0.328563 -2.056302  0.635481  0.283673\n",
       "3  0.589411  1.595684  0.182455 -1.039491\n",
       "4 -0.911413  0.440869  1.837406  0.142946"
      ]
     },
     "execution_count": 67,
     "metadata": {},
     "output_type": "execute_result"
    }
   ],
   "source": [
    "cols = []\n",
    "for i in range (1, 5):\n",
    "    cols.append(\"PC\" + str(i))\n",
    "\n",
    "print(cols)\n",
    "\n",
    "PCdf = pd.DataFrame(pca_components, columns = cols, index  =  Xkeep.index)\n",
    "PCdf.head()"
   ]
  },
  {
   "cell_type": "code",
   "execution_count": 68,
   "metadata": {},
   "outputs": [
    {
     "name": "stderr",
     "output_type": "stream",
     "text": [
      "C:\\Users\\Jordan\\Anaconda3\\lib\\site-packages\\ipykernel_launcher.py:10: DeprecationWarning: `itemfreq` is deprecated!\n",
      "`itemfreq` is deprecated and will be removed in a future version. Use instead `np.unique(..., return_counts=True)`\n",
      "  # Remove the CWD from sys.path while we load stuff.\n",
      "C:\\Users\\Jordan\\Anaconda3\\lib\\site-packages\\ipykernel_launcher.py:10: DeprecationWarning: `itemfreq` is deprecated!\n",
      "`itemfreq` is deprecated and will be removed in a future version. Use instead `np.unique(..., return_counts=True)`\n",
      "  # Remove the CWD from sys.path while we load stuff.\n",
      "C:\\Users\\Jordan\\Anaconda3\\lib\\site-packages\\ipykernel_launcher.py:10: DeprecationWarning: `itemfreq` is deprecated!\n",
      "`itemfreq` is deprecated and will be removed in a future version. Use instead `np.unique(..., return_counts=True)`\n",
      "  # Remove the CWD from sys.path while we load stuff.\n",
      "C:\\Users\\Jordan\\Anaconda3\\lib\\site-packages\\ipykernel_launcher.py:10: DeprecationWarning: `itemfreq` is deprecated!\n",
      "`itemfreq` is deprecated and will be removed in a future version. Use instead `np.unique(..., return_counts=True)`\n",
      "  # Remove the CWD from sys.path while we load stuff.\n"
     ]
    },
    {
     "name": "stdout",
     "output_type": "stream",
     "text": [
      "[[  0 244]\n",
      " [  1 232]\n",
      " [  2 284]\n",
      " [  3  49]\n",
      " [  4 363]]\n",
      "[[  0 232]\n",
      " [  1 140]\n",
      " [  2  49]\n",
      " [  3 244]\n",
      " [  4 284]\n",
      " [  5 223]]\n",
      "[[  0 223]\n",
      " [  1 165]\n",
      " [  2 229]\n",
      " [  3  49]\n",
      " [  4 241]\n",
      " [  5 140]\n",
      " [  6 125]]\n",
      "[[  0 140]\n",
      " [  1 229]\n",
      " [  2 125]\n",
      " [  3 223]\n",
      " [  4 241]\n",
      " [  5 165]\n",
      " [  6  35]\n",
      " [  7  14]]\n"
     ]
    },
    {
     "name": "stderr",
     "output_type": "stream",
     "text": [
      "C:\\Users\\Jordan\\Anaconda3\\lib\\site-packages\\ipykernel_launcher.py:10: DeprecationWarning: `itemfreq` is deprecated!\n",
      "`itemfreq` is deprecated and will be removed in a future version. Use instead `np.unique(..., return_counts=True)`\n",
      "  # Remove the CWD from sys.path while we load stuff.\n",
      "C:\\Users\\Jordan\\Anaconda3\\lib\\site-packages\\ipykernel_launcher.py:10: DeprecationWarning: `itemfreq` is deprecated!\n",
      "`itemfreq` is deprecated and will be removed in a future version. Use instead `np.unique(..., return_counts=True)`\n",
      "  # Remove the CWD from sys.path while we load stuff.\n",
      "C:\\Users\\Jordan\\Anaconda3\\lib\\site-packages\\ipykernel_launcher.py:10: DeprecationWarning: `itemfreq` is deprecated!\n",
      "`itemfreq` is deprecated and will be removed in a future version. Use instead `np.unique(..., return_counts=True)`\n",
      "  # Remove the CWD from sys.path while we load stuff.\n"
     ]
    },
    {
     "name": "stdout",
     "output_type": "stream",
     "text": [
      "[[  0 229]\n",
      " [  1 129]\n",
      " [  2 223]\n",
      " [  3 241]\n",
      " [  4  35]\n",
      " [  5 140]\n",
      " [  6 125]\n",
      " [  7  36]\n",
      " [  8  14]]\n",
      "[[  0 241]\n",
      " [  1 223]\n",
      " [  2  87]\n",
      " [  3 140]\n",
      " [  4  35]\n",
      " [  5 229]\n",
      " [  6 127]\n",
      " [  7  14]\n",
      " [  8  38]\n",
      " [  9  38]]\n",
      "[[  0 229]\n",
      " [  1  38]\n",
      " [  2 185]\n",
      " [  3 223]\n",
      " [  4  87]\n",
      " [  5  35]\n",
      " [  6 140]\n",
      " [  7  14]\n",
      " [  8 124]\n",
      " [  9  59]\n",
      " [ 10  38]]\n",
      "[[  0 186]\n",
      " [  1 126]\n",
      " [  2 223]\n",
      " [  3 180]\n",
      " [  4  35]\n",
      " [  5 140]\n",
      " [  6  84]\n",
      " [  7  14]\n",
      " [  8  36]\n",
      " [  9  46]\n",
      " [ 10  64]\n",
      " [ 11  38]]\n"
     ]
    },
    {
     "name": "stderr",
     "output_type": "stream",
     "text": [
      "C:\\Users\\Jordan\\Anaconda3\\lib\\site-packages\\ipykernel_launcher.py:10: DeprecationWarning: `itemfreq` is deprecated!\n",
      "`itemfreq` is deprecated and will be removed in a future version. Use instead `np.unique(..., return_counts=True)`\n",
      "  # Remove the CWD from sys.path while we load stuff.\n"
     ]
    }
   ],
   "source": [
    "\n",
    "labels = []\n",
    "for i in range(5,13):\n",
    "    kmeans = KMeans(n_clusters= i)\n",
    "    kmeans = kmeans.fit(PCdf)\n",
    "    labelPCdf = kmeans.labels_\n",
    "    labels.append(labelPCdf)\n",
    "    centroids = kmeans.cluster_centers_\n",
    "    centroids[:, 0]\n",
    "    print(stats.itemfreq(labelPCdf))\n",
    "   \n"
   ]
  },
  {
   "cell_type": "code",
   "execution_count": 69,
   "metadata": {},
   "outputs": [
    {
     "name": "stdout",
     "output_type": "stream",
     "text": [
      "[4 4 3 ... 4 4 5]\n"
     ]
    }
   ],
   "source": [
    "print(labels[1])"
   ]
  },
  {
   "cell_type": "code",
   "execution_count": 70,
   "metadata": {},
   "outputs": [
    {
     "name": "stdout",
     "output_type": "stream",
     "text": [
      "        PC1       PC2       PC3       PC4  Cluster_number\n",
      "0  1.806126  1.863293  0.369014 -1.105734               4\n",
      "1  0.615717  1.602426  0.186959 -1.035805               4\n",
      "2 -0.328563 -2.056302  0.635481  0.283673               3\n",
      "3  0.589411  1.595684  0.182455 -1.039491               4\n",
      "4 -0.911413  0.440869  1.837406  0.142946               0\n"
     ]
    },
    {
     "data": {
      "text/plain": [
       "4    284\n",
       "3    244\n",
       "0    232\n",
       "5    223\n",
       "1    140\n",
       "2     49\n",
       "Name: Cluster_number, dtype: int64"
      ]
     },
     "execution_count": 70,
     "metadata": {},
     "output_type": "execute_result"
    }
   ],
   "source": [
    "#Let's go with 6 cluster groups\n",
    "whole_cluster = labels[1]\n",
    "whole_cluster.view()\n",
    "\n",
    "PCdf[\"Cluster_number\"] = whole_cluster\n",
    "print(PCdf.head())\n",
    "PCdf[\"Cluster_number\"].value_counts()"
   ]
  },
  {
   "cell_type": "code",
   "execution_count": 72,
   "metadata": {
    "scrolled": false
   },
   "outputs": [
    {
     "data": {
      "text/html": [
       "<div>\n",
       "<style scoped>\n",
       "    .dataframe tbody tr th:only-of-type {\n",
       "        vertical-align: middle;\n",
       "    }\n",
       "\n",
       "    .dataframe tbody tr th {\n",
       "        vertical-align: top;\n",
       "    }\n",
       "\n",
       "    .dataframe thead th {\n",
       "        text-align: right;\n",
       "    }\n",
       "</style>\n",
       "<table border=\"1\" class=\"dataframe\">\n",
       "  <thead>\n",
       "    <tr style=\"text-align: right;\">\n",
       "      <th></th>\n",
       "      <th>Unnamed: 0</th>\n",
       "      <th>Trail_Name</th>\n",
       "      <th>Rank</th>\n",
       "      <th>Difficulty</th>\n",
       "      <th>Distance_Miles</th>\n",
       "      <th>Elevation_Feet</th>\n",
       "      <th>Route_Type</th>\n",
       "      <th>Description</th>\n",
       "      <th>PC1</th>\n",
       "      <th>PC2</th>\n",
       "      <th>PC3</th>\n",
       "      <th>PC4</th>\n",
       "      <th>Cluster_number</th>\n",
       "    </tr>\n",
       "  </thead>\n",
       "  <tbody>\n",
       "    <tr>\n",
       "      <th>1191</th>\n",
       "      <td>1192</td>\n",
       "      <td>Oregon Mountain Loop [PRIVATE PROPERTY]</td>\n",
       "      <td>1192</td>\n",
       "      <td>Easy</td>\n",
       "      <td>3.2</td>\n",
       "      <td>1200</td>\n",
       "      <td>Loop</td>\n",
       "      <td>Oregon Mountain Loop [PRIVATE PROPERTY] is a 3...</td>\n",
       "      <td>-1.473265</td>\n",
       "      <td>1.505453</td>\n",
       "      <td>-0.753901</td>\n",
       "      <td>-0.152504</td>\n",
       "      <td>5.0</td>\n",
       "    </tr>\n",
       "    <tr>\n",
       "      <th>1192</th>\n",
       "      <td>1193</td>\n",
       "      <td>Mowgli's Mountain Loop [PRIVATE PROPERTY]</td>\n",
       "      <td>1193</td>\n",
       "      <td>Moderate</td>\n",
       "      <td>6.7</td>\n",
       "      <td>1870</td>\n",
       "      <td>Loop</td>\n",
       "      <td>Mowgli's Mountain Loop [PRIVATE PROPERTY] is a...</td>\n",
       "      <td>-0.347263</td>\n",
       "      <td>0.568539</td>\n",
       "      <td>1.925673</td>\n",
       "      <td>0.131432</td>\n",
       "      <td>0.0</td>\n",
       "    </tr>\n",
       "    <tr>\n",
       "      <th>1193</th>\n",
       "      <td>1194</td>\n",
       "      <td>Cardigan via Back 80 &amp; Mowgli's Trails [PRIVAT...</td>\n",
       "      <td>1194</td>\n",
       "      <td>Hard</td>\n",
       "      <td>9.9</td>\n",
       "      <td>3047</td>\n",
       "      <td>Out &amp; Back</td>\n",
       "      <td>Cardigan via Back 80 &amp; Mowgli's Trails [PRIVAT...</td>\n",
       "      <td>2.401659</td>\n",
       "      <td>-0.622467</td>\n",
       "      <td>-0.826724</td>\n",
       "      <td>-0.919570</td>\n",
       "      <td>4.0</td>\n",
       "    </tr>\n",
       "    <tr>\n",
       "      <th>1194</th>\n",
       "      <td>1195</td>\n",
       "      <td>Mount Chocorua via Liberty Trail to Bee Line T...</td>\n",
       "      <td>1195</td>\n",
       "      <td>Hard</td>\n",
       "      <td>7.6</td>\n",
       "      <td>2539</td>\n",
       "      <td>Loop</td>\n",
       "      <td>Mount Chocorua via Liberty Trail to Bee Line T...</td>\n",
       "      <td>1.266232</td>\n",
       "      <td>1.750335</td>\n",
       "      <td>0.289081</td>\n",
       "      <td>-1.045369</td>\n",
       "      <td>4.0</td>\n",
       "    </tr>\n",
       "    <tr>\n",
       "      <th>1195</th>\n",
       "      <td>1196</td>\n",
       "      <td>Skyview to Gumpus Hill Loop</td>\n",
       "      <td>1196</td>\n",
       "      <td>Easy</td>\n",
       "      <td>2.1</td>\n",
       "      <td>206</td>\n",
       "      <td>Loop</td>\n",
       "      <td>Skyview to Gumpus Hill Loop is a 2.1 mile mode...</td>\n",
       "      <td>-1.926286</td>\n",
       "      <td>1.409384</td>\n",
       "      <td>-0.821605</td>\n",
       "      <td>-0.108733</td>\n",
       "      <td>5.0</td>\n",
       "    </tr>\n",
       "  </tbody>\n",
       "</table>\n",
       "</div>"
      ],
      "text/plain": [
       "      Unnamed: 0                                         Trail_Name  Rank  \\\n",
       "1191        1192            Oregon Mountain Loop [PRIVATE PROPERTY]  1192   \n",
       "1192        1193          Mowgli's Mountain Loop [PRIVATE PROPERTY]  1193   \n",
       "1193        1194  Cardigan via Back 80 & Mowgli's Trails [PRIVAT...  1194   \n",
       "1194        1195  Mount Chocorua via Liberty Trail to Bee Line T...  1195   \n",
       "1195        1196                        Skyview to Gumpus Hill Loop  1196   \n",
       "\n",
       "     Difficulty  Distance_Miles  Elevation_Feet  Route_Type  \\\n",
       "1191       Easy             3.2            1200        Loop   \n",
       "1192   Moderate             6.7            1870        Loop   \n",
       "1193       Hard             9.9            3047  Out & Back   \n",
       "1194       Hard             7.6            2539        Loop   \n",
       "1195       Easy             2.1             206        Loop   \n",
       "\n",
       "                                            Description       PC1       PC2  \\\n",
       "1191  Oregon Mountain Loop [PRIVATE PROPERTY] is a 3... -1.473265  1.505453   \n",
       "1192  Mowgli's Mountain Loop [PRIVATE PROPERTY] is a... -0.347263  0.568539   \n",
       "1193  Cardigan via Back 80 & Mowgli's Trails [PRIVAT...  2.401659 -0.622467   \n",
       "1194  Mount Chocorua via Liberty Trail to Bee Line T...  1.266232  1.750335   \n",
       "1195  Skyview to Gumpus Hill Loop is a 2.1 mile mode... -1.926286  1.409384   \n",
       "\n",
       "           PC3       PC4  Cluster_number  \n",
       "1191 -0.753901 -0.152504             5.0  \n",
       "1192  1.925673  0.131432             0.0  \n",
       "1193 -0.826724 -0.919570             4.0  \n",
       "1194  0.289081 -1.045369             4.0  \n",
       "1195 -0.821605 -0.108733             5.0  "
      ]
     },
     "execution_count": 72,
     "metadata": {},
     "output_type": "execute_result"
    }
   ],
   "source": [
    "completetrails = pd.concat([trails, PCdf], axis = 1)\n",
    "completetrails.tail()"
   ]
  },
  {
   "cell_type": "code",
   "execution_count": 77,
   "metadata": {},
   "outputs": [],
   "source": [
    "completetrails.to_csv(\"ClusteredTrails.csv\")"
   ]
  },
  {
   "cell_type": "code",
   "execution_count": 75,
   "metadata": {},
   "outputs": [],
   "source": [
    "%matplotlib inline\n",
    "import matplotlib.pyplot as plt\n",
    "import seaborn as sns\n",
    "sns.set(color_codes = True)"
   ]
  },
  {
   "cell_type": "code",
   "execution_count": 76,
   "metadata": {},
   "outputs": [
    {
     "ename": "ValueError",
     "evalue": "color kwarg must have one color per data set. 232 data sets and 1 colors were provided",
     "output_type": "error",
     "traceback": [
      "\u001b[1;31m---------------------------------------------------------------------------\u001b[0m",
      "\u001b[1;31mValueError\u001b[0m                                Traceback (most recent call last)",
      "\u001b[1;32m<ipython-input-76-80ffb6d56970>\u001b[0m in \u001b[0;36m<module>\u001b[1;34m\u001b[0m\n\u001b[0;32m      2\u001b[0m \u001b[1;31m#Visualization\u001b[0m\u001b[1;33m\u001b[0m\u001b[1;33m\u001b[0m\u001b[1;33m\u001b[0m\u001b[0m\n\u001b[0;32m      3\u001b[0m \u001b[0mg\u001b[0m \u001b[1;33m=\u001b[0m \u001b[0msns\u001b[0m\u001b[1;33m.\u001b[0m\u001b[0mFacetGrid\u001b[0m\u001b[1;33m(\u001b[0m\u001b[0mcompletetrails\u001b[0m\u001b[1;33m,\u001b[0m \u001b[0mrow\u001b[0m\u001b[1;33m=\u001b[0m\u001b[1;34m\"Route_Type\"\u001b[0m\u001b[1;33m,\u001b[0m \u001b[0mcol\u001b[0m\u001b[1;33m=\u001b[0m\u001b[1;34m\"Cluster_number\"\u001b[0m\u001b[1;33m,\u001b[0m \u001b[0mmargin_titles\u001b[0m\u001b[1;33m=\u001b[0m\u001b[1;32mTrue\u001b[0m\u001b[1;33m,\u001b[0m \u001b[0mhue\u001b[0m\u001b[1;33m=\u001b[0m\u001b[1;34m\"Cluster_number\"\u001b[0m\u001b[1;33m)\u001b[0m\u001b[1;33m\u001b[0m\u001b[1;33m\u001b[0m\u001b[0m\n\u001b[1;32m----> 4\u001b[1;33m \u001b[0mg\u001b[0m\u001b[1;33m.\u001b[0m\u001b[0mmap\u001b[0m\u001b[1;33m(\u001b[0m\u001b[0mplt\u001b[0m\u001b[1;33m.\u001b[0m\u001b[0mhist\u001b[0m\u001b[1;33m,\u001b[0m \u001b[1;34m\"Difficulty\"\u001b[0m\u001b[1;33m)\u001b[0m\u001b[1;33m\u001b[0m\u001b[1;33m\u001b[0m\u001b[0m\n\u001b[0m",
      "\u001b[1;32m~\\Anaconda3\\lib\\site-packages\\seaborn\\axisgrid.py\u001b[0m in \u001b[0;36mmap\u001b[1;34m(self, func, *args, **kwargs)\u001b[0m\n\u001b[0;32m    752\u001b[0m \u001b[1;33m\u001b[0m\u001b[0m\n\u001b[0;32m    753\u001b[0m             \u001b[1;31m# Draw the plot\u001b[0m\u001b[1;33m\u001b[0m\u001b[1;33m\u001b[0m\u001b[1;33m\u001b[0m\u001b[0m\n\u001b[1;32m--> 754\u001b[1;33m             \u001b[0mself\u001b[0m\u001b[1;33m.\u001b[0m\u001b[0m_facet_plot\u001b[0m\u001b[1;33m(\u001b[0m\u001b[0mfunc\u001b[0m\u001b[1;33m,\u001b[0m \u001b[0max\u001b[0m\u001b[1;33m,\u001b[0m \u001b[0mplot_args\u001b[0m\u001b[1;33m,\u001b[0m \u001b[0mkwargs\u001b[0m\u001b[1;33m)\u001b[0m\u001b[1;33m\u001b[0m\u001b[1;33m\u001b[0m\u001b[0m\n\u001b[0m\u001b[0;32m    755\u001b[0m \u001b[1;33m\u001b[0m\u001b[0m\n\u001b[0;32m    756\u001b[0m         \u001b[1;31m# Finalize the annotations and layout\u001b[0m\u001b[1;33m\u001b[0m\u001b[1;33m\u001b[0m\u001b[1;33m\u001b[0m\u001b[0m\n",
      "\u001b[1;32m~\\Anaconda3\\lib\\site-packages\\seaborn\\axisgrid.py\u001b[0m in \u001b[0;36m_facet_plot\u001b[1;34m(self, func, ax, plot_args, plot_kwargs)\u001b[0m\n\u001b[0;32m    836\u001b[0m \u001b[1;33m\u001b[0m\u001b[0m\n\u001b[0;32m    837\u001b[0m         \u001b[1;31m# Draw the plot\u001b[0m\u001b[1;33m\u001b[0m\u001b[1;33m\u001b[0m\u001b[1;33m\u001b[0m\u001b[0m\n\u001b[1;32m--> 838\u001b[1;33m         \u001b[0mfunc\u001b[0m\u001b[1;33m(\u001b[0m\u001b[1;33m*\u001b[0m\u001b[0mplot_args\u001b[0m\u001b[1;33m,\u001b[0m \u001b[1;33m**\u001b[0m\u001b[0mplot_kwargs\u001b[0m\u001b[1;33m)\u001b[0m\u001b[1;33m\u001b[0m\u001b[1;33m\u001b[0m\u001b[0m\n\u001b[0m\u001b[0;32m    839\u001b[0m \u001b[1;33m\u001b[0m\u001b[0m\n\u001b[0;32m    840\u001b[0m         \u001b[1;31m# Sort out the supporting information\u001b[0m\u001b[1;33m\u001b[0m\u001b[1;33m\u001b[0m\u001b[1;33m\u001b[0m\u001b[0m\n",
      "\u001b[1;32m~\\Anaconda3\\lib\\site-packages\\matplotlib\\pyplot.py\u001b[0m in \u001b[0;36mhist\u001b[1;34m(x, bins, range, density, weights, cumulative, bottom, histtype, align, orientation, rwidth, log, color, label, stacked, normed, data, **kwargs)\u001b[0m\n\u001b[0;32m   2657\u001b[0m         \u001b[0malign\u001b[0m\u001b[1;33m=\u001b[0m\u001b[0malign\u001b[0m\u001b[1;33m,\u001b[0m \u001b[0morientation\u001b[0m\u001b[1;33m=\u001b[0m\u001b[0morientation\u001b[0m\u001b[1;33m,\u001b[0m \u001b[0mrwidth\u001b[0m\u001b[1;33m=\u001b[0m\u001b[0mrwidth\u001b[0m\u001b[1;33m,\u001b[0m \u001b[0mlog\u001b[0m\u001b[1;33m=\u001b[0m\u001b[0mlog\u001b[0m\u001b[1;33m,\u001b[0m\u001b[1;33m\u001b[0m\u001b[1;33m\u001b[0m\u001b[0m\n\u001b[0;32m   2658\u001b[0m         \u001b[0mcolor\u001b[0m\u001b[1;33m=\u001b[0m\u001b[0mcolor\u001b[0m\u001b[1;33m,\u001b[0m \u001b[0mlabel\u001b[0m\u001b[1;33m=\u001b[0m\u001b[0mlabel\u001b[0m\u001b[1;33m,\u001b[0m \u001b[0mstacked\u001b[0m\u001b[1;33m=\u001b[0m\u001b[0mstacked\u001b[0m\u001b[1;33m,\u001b[0m \u001b[0mnormed\u001b[0m\u001b[1;33m=\u001b[0m\u001b[0mnormed\u001b[0m\u001b[1;33m,\u001b[0m\u001b[1;33m\u001b[0m\u001b[1;33m\u001b[0m\u001b[0m\n\u001b[1;32m-> 2659\u001b[1;33m         **({\"data\": data} if data is not None else {}), **kwargs)\n\u001b[0m\u001b[0;32m   2660\u001b[0m \u001b[1;33m\u001b[0m\u001b[0m\n\u001b[0;32m   2661\u001b[0m \u001b[1;33m\u001b[0m\u001b[0m\n",
      "\u001b[1;32m~\\Anaconda3\\lib\\site-packages\\matplotlib\\__init__.py\u001b[0m in \u001b[0;36minner\u001b[1;34m(ax, data, *args, **kwargs)\u001b[0m\n\u001b[0;32m   1808\u001b[0m                         \u001b[1;34m\"the Matplotlib list!)\"\u001b[0m \u001b[1;33m%\u001b[0m \u001b[1;33m(\u001b[0m\u001b[0mlabel_namer\u001b[0m\u001b[1;33m,\u001b[0m \u001b[0mfunc\u001b[0m\u001b[1;33m.\u001b[0m\u001b[0m__name__\u001b[0m\u001b[1;33m)\u001b[0m\u001b[1;33m,\u001b[0m\u001b[1;33m\u001b[0m\u001b[1;33m\u001b[0m\u001b[0m\n\u001b[0;32m   1809\u001b[0m                         RuntimeWarning, stacklevel=2)\n\u001b[1;32m-> 1810\u001b[1;33m             \u001b[1;32mreturn\u001b[0m \u001b[0mfunc\u001b[0m\u001b[1;33m(\u001b[0m\u001b[0max\u001b[0m\u001b[1;33m,\u001b[0m \u001b[1;33m*\u001b[0m\u001b[0margs\u001b[0m\u001b[1;33m,\u001b[0m \u001b[1;33m**\u001b[0m\u001b[0mkwargs\u001b[0m\u001b[1;33m)\u001b[0m\u001b[1;33m\u001b[0m\u001b[1;33m\u001b[0m\u001b[0m\n\u001b[0m\u001b[0;32m   1811\u001b[0m \u001b[1;33m\u001b[0m\u001b[0m\n\u001b[0;32m   1812\u001b[0m         inner.__doc__ = _add_data_doc(inner.__doc__,\n",
      "\u001b[1;32m~\\Anaconda3\\lib\\site-packages\\matplotlib\\axes\\_axes.py\u001b[0m in \u001b[0;36mhist\u001b[1;34m(self, x, bins, range, density, weights, cumulative, bottom, histtype, align, orientation, rwidth, log, color, label, stacked, normed, **kwargs)\u001b[0m\n\u001b[0;32m   6563\u001b[0m                     \u001b[1;34m\"color kwarg must have one color per data set. %d data \"\u001b[0m\u001b[1;33m\u001b[0m\u001b[1;33m\u001b[0m\u001b[0m\n\u001b[0;32m   6564\u001b[0m                     \"sets and %d colors were provided\" % (nx, len(color)))\n\u001b[1;32m-> 6565\u001b[1;33m                 \u001b[1;32mraise\u001b[0m \u001b[0mValueError\u001b[0m\u001b[1;33m(\u001b[0m\u001b[0merror_message\u001b[0m\u001b[1;33m)\u001b[0m\u001b[1;33m\u001b[0m\u001b[1;33m\u001b[0m\u001b[0m\n\u001b[0m\u001b[0;32m   6566\u001b[0m \u001b[1;33m\u001b[0m\u001b[0m\n\u001b[0;32m   6567\u001b[0m         \u001b[1;31m# If bins are not specified either explicitly or via range,\u001b[0m\u001b[1;33m\u001b[0m\u001b[1;33m\u001b[0m\u001b[1;33m\u001b[0m\u001b[0m\n",
      "\u001b[1;31mValueError\u001b[0m: color kwarg must have one color per data set. 232 data sets and 1 colors were provided"
     ]
    },
    {
     "data": {
      "image/png": "[encoded data removed]",
      "text/plain": [
       "<Figure size 1296x648 with 18 Axes>"
      ]
     },
     "metadata": {},
     "output_type": "display_data"
    }
   ],
   "source": [
    "import seaborn as sns\n",
    "#Visualization\n",
    "g = sns.FacetGrid(completetrails, row=\"Route_Type\", col=\"Cluster_number\", margin_titles=True, hue=\"Cluster_number\")\n",
    "g.map(plt.hist, \"Difficulty\")"
   ]
  }
 ],
 "metadata": {
  "kernelspec": {
   "display_name": "Python 3",
   "language": "python",
   "name": "python3"
  },
  "language_info": {
   "codemirror_mode": {
    "name": "ipython",
    "version": 3
   },
   "file_extension": ".py",
   "mimetype": "text/x-python",
   "name": "python",
   "nbconvert_exporter": "python",
   "pygments_lexer": "ipython3",
   "version": "3.7.3"
  }
 },
 "nbformat": 4,
 "nbformat_minor": 2
}
